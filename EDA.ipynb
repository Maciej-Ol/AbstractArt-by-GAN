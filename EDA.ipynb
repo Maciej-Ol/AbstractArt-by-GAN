{
 "cells": [
  {
   "cell_type": "code",
   "execution_count": 2,
   "metadata": {},
   "outputs": [
    {
     "name": "stdout",
     "output_type": "stream",
     "text": [
      "numpy: 1.21.5\n",
      "numpy: 9.2.0\n"
     ]
    }
   ],
   "source": [
    "import numpy as np\n",
    "print('numpy: %s' % np.__version__) # print version\n",
    "from pathlib import Path\n",
    "import PIL\n",
    "from PIL import Image\n",
    "print('numpy: %s' % PIL.__version__) # print version\n",
    "\n",
    "# Other utilities\n",
    "import sys\n",
    "import os\n",
    "\n",
    "# Assign main directory to a variable\n",
    "#main_dir=Path(sys.path[0])\n",
    "#main_dir"
   ]
  },
  {
   "cell_type": "code",
   "execution_count": 4,
   "metadata": {},
   "outputs": [
    {
     "name": "stdout",
     "output_type": "stream",
     "text": [
      "delaunay\n"
     ]
    },
    {
     "data": {
      "text/plain": [
       "['Ad Reinhardt',\n",
       " 'Alberto Magnelli',\n",
       " 'Alfred Manessier',\n",
       " 'Anthony Caro',\n",
       " 'Antoine Pevsner',\n",
       " 'Auguste Herbin',\n",
       " 'Aurelie Nemours',\n",
       " 'Berto Lardera',\n",
       " 'Cesar Domela',\n",
       " 'Charles Lapicque']"
      ]
     },
     "execution_count": 4,
     "metadata": {},
     "output_type": "execute_result"
    }
   ],
   "source": [
    "dir_list = os.listdir(\"data\\\\delaunay\\\\delaunay_train\")\n",
    "print(\"delaunay\")\n",
    "dir_list[0:10]"
   ]
  },
  {
   "cell_type": "code",
   "execution_count": 5,
   "metadata": {},
   "outputs": [
    {
     "name": "stdout",
     "output_type": "stream",
     "text": [
      "cubism\n"
     ]
    },
    {
     "data": {
      "text/plain": [
       "['adolf-fleischmann_hommage-delaunay-et-gleizes-1938.jpg',\n",
       " 'afro_cronaca-autobiographia-1953.jpg',\n",
       " 'albert-gleizes_arabesque-brush-or-cubist-composition-1952.jpg',\n",
       " 'albert-gleizes_composition-1928.jpg',\n",
       " 'albert-gleizes_composition-au-diapason.jpg',\n",
       " 'albert-gleizes_composition-for-jazz-1915.jpg',\n",
       " 'albert-gleizes_femme-au-fauteuil-1923.jpg',\n",
       " 'albert-gleizes_femme-cubiste-1921.jpg',\n",
       " 'albert-gleizes_femmes-cousant-1913.jpg',\n",
       " 'albert-gleizes_figure-cubiste-1921.jpg']"
      ]
     },
     "execution_count": 5,
     "metadata": {},
     "output_type": "execute_result"
    }
   ],
   "source": [
    "dir_list = os.listdir(\"data\\\\cubism\")\n",
    "print(\"cubism\")\n",
    "dir_list[0:10]"
   ]
  },
  {
   "cell_type": "code",
   "execution_count": 6,
   "metadata": {},
   "outputs": [],
   "source": [
    "list=os.listdir(\"data\\\\delaunay\\\\delaunay_train\")"
   ]
  },
  {
   "cell_type": "code",
   "execution_count": 7,
   "metadata": {},
   "outputs": [
    {
     "name": "stdout",
     "output_type": "stream",
     "text": [
      "Delaunay\n"
     ]
    },
    {
     "data": {
      "text/plain": [
       "{'zip': 2, 'png': 11503}"
      ]
     },
     "execution_count": 7,
     "metadata": {},
     "output_type": "execute_result"
    }
   ],
   "source": [
    "data_dir=Path('data\\\\delaunay')\n",
    "print(\"Delaunay\")\n",
    "types = dict()\n",
    "for filename in data_dir.rglob(\"*.*\"):\n",
    "    extension=str(filename).split(\".\")[-1]\n",
    "    if(extension in types.keys()):\n",
    "        types[extension]=types[extension]+1\n",
    "    else:\n",
    "        types[extension]=1\n",
    "types"
   ]
  },
  {
   "cell_type": "code",
   "execution_count": 8,
   "metadata": {},
   "outputs": [
    {
     "name": "stdout",
     "output_type": "stream",
     "text": [
      "Cubism\n"
     ]
    },
    {
     "data": {
      "text/plain": [
       "{'jpg': 2235}"
      ]
     },
     "execution_count": 8,
     "metadata": {},
     "output_type": "execute_result"
    }
   ],
   "source": [
    "data_dir=Path('data\\\\cubism')\n",
    "print(\"Cubism\")\n",
    "types = dict()\n",
    "for filename in data_dir.rglob(\"*.*\"):\n",
    "    extension=str(filename).split(\".\")[-1]\n",
    "    if(extension in types.keys()):\n",
    "        types[extension]=types[extension]+1\n",
    "    else:\n",
    "        types[extension]=1\n",
    "types"
   ]
  },
  {
   "cell_type": "code",
   "execution_count": 32,
   "metadata": {},
   "outputs": [],
   "source": [
    "img_res=Image.open(\"data\\\\cubism\\\\albert-gleizes_untitled-3.jpg\").resize((64,64),Image.Resampling.LANCZOS)\n",
    "img_norm=Image.open(\"data\\\\cubism\\\\albert-gleizes_untitled-3.jpg\").resize((64,64))\n",
    "#img_res=Image.open(\"data\\\\delaunay\\\\delaunay_test\\\\Ellsworth Kelly\\\\2092.png\").resize((1024,1024),Image.Resampling.LANCZOS)\n",
    "#img_norm=Image.open(\"data\\\\delaunay\\\\delaunay_test\\\\Ellsworth Kelly\\\\2092.png\").resize((1024,1024))\n",
    "\n",
    "\n",
    "img_res.save(\"data\\\\a.jpg\")\n",
    "img_norm.save(\"data\\\\b.jpg\")\n",
    "train_data_raw=[0]\n",
    "#for filename in path.rglob(\"*.jpg\"):\n",
    "    #Lanczos also know as antialias function is the best quality filter for downscaling images, but has worst time performance\n",
    "    #image = Image.open(filename).resize((IMG_SIZE, IMG_SIZE), Image.Resampling.LANCZOS)\n",
    "    #train_data_raw.append(np.asarray(1))\n",
    "#Image.fromarray((train_data_raw[0]).astype(np.uint8))"
   ]
  }
 ],
 "metadata": {
  "kernelspec": {
   "display_name": "Python 3.9.15 ('gan')",
   "language": "python",
   "name": "python3"
  },
  "language_info": {
   "codemirror_mode": {
    "name": "ipython",
    "version": 3
   },
   "file_extension": ".py",
   "mimetype": "text/x-python",
   "name": "python",
   "nbconvert_exporter": "python",
   "pygments_lexer": "ipython3",
   "version": "3.9.15 (main, Nov 24 2022, 14:39:17) [MSC v.1916 64 bit (AMD64)]"
  },
  "orig_nbformat": 4,
  "vscode": {
   "interpreter": {
    "hash": "93d942669e1cf03727884ffd0f90dfde4a7a65cf123d21da6912f8331dcd819b"
   }
  }
 },
 "nbformat": 4,
 "nbformat_minor": 2
}
