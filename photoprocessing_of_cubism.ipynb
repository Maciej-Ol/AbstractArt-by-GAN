{
 "cells": [
  {
   "attachments": {},
   "cell_type": "markdown",
   "metadata": {},
   "source": [
    "Żeby kod działał bardziej optymalnie, każde zdjęcie chcemy zapisać w postaci \n",
    "trójwymiarowej macierzy w zapisie: długość x szerokość x 3 kanały kolorów (RGB).\n"
   ]
  },
  {
   "cell_type": "code",
   "execution_count": 1,
   "metadata": {},
   "outputs": [],
   "source": [
    "#Zaimportowanie wymaganych bibliotek\n",
    "import os\n",
    "from pathlib import Path\n",
    "import numpy as np\n",
    "from PIL import Image"
   ]
  },
  {
   "cell_type": "code",
   "execution_count": 2,
   "metadata": {},
   "outputs": [
    {
     "name": "stdout",
     "output_type": "stream",
     "text": [
      "<class 'numpy.ndarray'>\n",
      "(510, 309, 3)\n"
     ]
    }
   ],
   "source": [
    "img = Image.open('Cubism/adolf-fleischmann_hommage-delaunay-et-gleizes-1938.jpg')\n",
    "\n",
    "numpydata = np.asarray(img)\n",
    "# <class 'numpy.ndarray'>\n",
    "print(type(numpydata))\n",
    "\n",
    "#  shape\n",
    "print(numpydata.shape)"
   ]
  },
  {
   "cell_type": "code",
   "execution_count": 4,
   "metadata": {},
   "outputs": [],
   "source": [
    "#To train we will be using both delaunay test and train\n",
    "DIR = 'Cubism\\\\'\n",
    "#final size of an images\n",
    "IMG_SIZE = 64 #docelowo 256\n",
    "#number of colours chanels\n",
    "IMG_COLOURS = 3 # RGB"
   ]
  },
  {
   "cell_type": "code",
   "execution_count": 5,
   "metadata": {},
   "outputs": [
    {
     "data": {
      "text/plain": [
       "2235"
      ]
     },
     "execution_count": 5,
     "metadata": {},
     "output_type": "execute_result"
    }
   ],
   "source": [
    "path=Path(DIR)\n",
    "a=0\n",
    "for filename in path.rglob(\"*.jpg\"):\n",
    "    a+=1\n",
    "a"
   ]
  },
  {
   "cell_type": "code",
   "execution_count": 6,
   "metadata": {},
   "outputs": [],
   "source": [
    "# Iterating over the images inside the directory and resizing them using\n",
    "# Pillow's resize method.\n",
    "# Resazing images to final size - we want all images to be the same size\n",
    "# Also we are using AntiAlias to upgrade the quality of the images\n",
    "path=Path(DIR)\n",
    "train_data_raw=[]\n",
    "for filename in path.rglob(\"*.jpg\"):\n",
    "    #lanczos also know as antialias function is the best quality filter for downscaling images, but has worst performance\n",
    "    image = Image.open(filename).resize((IMG_SIZE, IMG_SIZE), Image.Resampling.LANCZOS)\n",
    "    train_data_raw.append(np.asarray(image))"
   ]
  },
  {
   "cell_type": "code",
   "execution_count": 7,
   "metadata": {},
   "outputs": [
    {
     "data": {
      "text/plain": [
       "(2235, 64, 64, 3)"
      ]
     },
     "execution_count": 7,
     "metadata": {},
     "output_type": "execute_result"
    }
   ],
   "source": [
    "train_data=np.reshape(train_data_raw,(-1, IMG_SIZE, IMG_SIZE, IMG_COLOURS)).astype(\"float64\")\n",
    "# normalization (all colours range from 0 to 255)\n",
    "# and we want it to range from -1 to 1\n",
    "train_data = (train_data / 255)*2-1\n",
    "train_data.shape"
   ]
  },
  {
   "cell_type": "code",
   "execution_count": 8,
   "metadata": {},
   "outputs": [
    {
     "data": {
      "image/png": "[encoded data removed]",
      "text/plain": [
       "<PIL.Image.Image image mode=RGB size=64x64>"
      ]
     },
     "execution_count": 8,
     "metadata": {},
     "output_type": "execute_result"
    }
   ],
   "source": [
    "Image.fromarray(((train_data[1]+1)*255/2).astype(np.uint8))"
   ]
  },
  {
   "cell_type": "code",
   "execution_count": 9,
   "metadata": {},
   "outputs": [],
   "source": [
    "#saving the numpy data images as the binary file for faster data processing on training\n",
    "np.save(DIR+'cubism_data.npy', train_data)"
   ]
  }
 ],
 "metadata": {
  "kernelspec": {
   "display_name": "gan",
   "language": "python",
   "name": "python3"
  },
  "language_info": {
   "codemirror_mode": {
    "name": "ipython",
    "version": 3
   },
   "file_extension": ".py",
   "mimetype": "text/x-python",
   "name": "python",
   "nbconvert_exporter": "python",
   "pygments_lexer": "ipython3",
   "version": "3.9.15"
  },
  "orig_nbformat": 4,
  "vscode": {
   "interpreter": {
    "hash": "93d942669e1cf03727884ffd0f90dfde4a7a65cf123d21da6912f8331dcd819b"
   }
  }
 },
 "nbformat": 4,
 "nbformat_minor": 2
}
